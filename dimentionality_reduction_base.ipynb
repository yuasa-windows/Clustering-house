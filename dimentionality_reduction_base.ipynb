{
 "cells": [
  {
   "cell_type": "code",
   "execution_count": null,
   "id": "0bb2f119",
   "metadata": {},
   "outputs": [],
   "source": [
    "import os\n",
    "import sys\n",
    "import glob\n",
    "import numpy as np\n",
    "import pandas as pd\n",
    "import matplotlib.pyplot as plt\n",
    "import matplotlib.dates as mdates\n",
    "import seaborn as sns\n",
    "import datetime\n",
    "import jpholiday\n",
    "from sklearn import preprocessing\n",
    "\n",
    "import warnings\n",
    "warnings.filterwarnings(\"ignore\")\n",
    "\n",
    "# 作業ディレクトリの設定\n",
    "try:\n",
    "    os.chdir('H:/マイドライブ/03_code_test/clustering-house_trial')\n",
    "    data_path_header = 'G:/マイドライブ/01_研究/02_円山町/1_データ前処理'\n",
    "except FileNotFoundError:\n",
    "    os.chdir('G:/マイドライブ/03_code_test/clustering-house_trial')\n",
    "    data_path_header = 'H:/マイドライブ/01_研究/02_円山町/1_データ前処理'\n",
    "print(\"Current Working Directory: \", os.getcwd())"
   ]
  },
  {
   "cell_type": "code",
   "execution_count": null,
   "id": "c2df433d",
   "metadata": {},
   "outputs": [],
   "source": [
    "# CSVファイルの読み込み\n",
    "df_data = pd.DataFrame()\n",
    "file_path_list = glob.glob(f'./data/*.csv')\n",
    "for file_path in file_path_list:\n",
    "    df = pd.read_csv(file_path)\n",
    "    df_data = pd.concat([df_data, df], axis=0).reset_index(drop=True)\n",
    "\n",
    "# 欠損処理\n",
    "df_dropped = df_data.drop(['Rk', 'Name', 'Tm', 'Lev', 'Aff', 'GS', 'GF', 'SO/W', 'Name-additional'], axis=1)\n",
    "df_features = df_dropped.dropna()\n",
    "# 正規化\n",
    "mm = preprocessing.MinMaxScaler()\n",
    "df_features_mm = pd.DataFrame(mm.fit_transform(df_features), columns=df_features.columns)\n",
    "df_features_mm"
   ]
  },
  {
   "cell_type": "code",
   "execution_count": null,
   "id": "366ab7e6",
   "metadata": {},
   "outputs": [],
   "source": [
    "from sklearn.cluster import KMeans\n",
    "\n",
    "k = 8 # クラスター数を指示\n",
    "\n",
    "kmeanModel = KMeans(n_clusters=k, random_state=42)\n",
    "kmeanModel.fit(df_features_mm)\n",
    "clusters = kmeanModel.labels_\n",
    "\n",
    "# クラスターごとに何サンプルあるか\n",
    "for i in range(k):\n",
    "    num = list(clusters).count(i)\n",
    "    print(f'Cluster {i}: n = {num}')\n",
    "\n",
    "plt.scatter(df_features['G'], df_features['W'],\n",
    "            c=clusters, cmap='Accent', alpha=0.7)\n",
    "plt.title('plot')\n",
    "plt.xlabel('number of games')\n",
    "plt.ylabel('number of wins')\n",
    "plt.colorbar()\n",
    "plt.show()\n"
   ]
  },
  {
   "cell_type": "code",
   "execution_count": null,
   "id": "660f6db9",
   "metadata": {},
   "outputs": [],
   "source": [
    "from sklearn.decomposition import PCA\n",
    "pca = PCA(random_state=42)\n",
    "pca.fit(df_features_mm)\n",
    "score = pd.DataFrame(pca.transform(df_features_mm), index=df_features.index)\n",
    "score"
   ]
  },
  {
   "cell_type": "code",
   "execution_count": null,
   "id": "eae5fea3",
   "metadata": {},
   "outputs": [],
   "source": [
    "plt.scatter(score.iloc[:,0], score.iloc[:,1],\n",
    "            c=clusters, cmap='Accent', alpha=0.7)\n",
    "plt.title('PCA plot')\n",
    "plt.xlabel('PC1')\n",
    "plt.ylabel('PC2')\n",
    "plt.colorbar()\n",
    "plt.show()"
   ]
  },
  {
   "cell_type": "code",
   "execution_count": null,
   "id": "59dfec79",
   "metadata": {},
   "outputs": [],
   "source": [
    "from sklearn.manifold import TSNE\n",
    "embedding = TSNE(random_state=42).fit_transform(df_features_mm)\n",
    "plt.scatter(embedding[:, 0], embedding[:, 1],\n",
    "    c=clusters, cmap='Accent', alpha=0.7)\n",
    "plt.title('t-SNE plot')\n",
    "plt.colorbar()\n",
    "plt.show()"
   ]
  },
  {
   "cell_type": "code",
   "execution_count": null,
   "id": "1118d6c8",
   "metadata": {},
   "outputs": [],
   "source": [
    "import umap\n",
    "mapper = umap.UMAP(random_state=42)\n",
    "embedding = mapper.fit_transform(df_features_mm)\n",
    "plt.scatter(embedding[:, 0], embedding[:, 1],\n",
    "    c=clusters, cmap='Accent', alpha=0.7)\n",
    "plt.title('UMAP plot')\n",
    "plt.colorbar()\n",
    "plt.show()"
   ]
  }
 ],
 "metadata": {
  "kernelspec": {
   "display_name": "umapfix",
   "language": "python",
   "name": "python3"
  },
  "language_info": {
   "codemirror_mode": {
    "name": "ipython",
    "version": 3
   },
   "file_extension": ".py",
   "mimetype": "text/x-python",
   "name": "python",
   "nbconvert_exporter": "python",
   "pygments_lexer": "ipython3",
   "version": "3.10.18"
  }
 },
 "nbformat": 4,
 "nbformat_minor": 5
}
