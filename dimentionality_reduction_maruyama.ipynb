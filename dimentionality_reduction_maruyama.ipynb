{
 "cells": [
  {
   "cell_type": "code",
   "execution_count": null,
   "id": "09e8c5fe",
   "metadata": {},
   "outputs": [],
   "source": [
    "import os\n",
    "import sys\n",
    "import glob\n",
    "import numpy as np\n",
    "import pandas as pd\n",
    "import matplotlib.pyplot as plt\n",
    "import matplotlib.dates as mdates\n",
    "import datetime\n",
    "import jpholiday\n",
    "import seaborn as sns\n",
    "\n",
    "import warnings\n",
    "warnings.filterwarnings(\"ignore\")\n",
    "\n",
    "# 作業ディレクトリの設定\n",
    "try:\n",
    "    os.chdir('H:/マイドライブ/03_code_test/clustering-house_trial')\n",
    "    data_path_header = 'G:/マイドライブ/01_研究/02_円山町/1_データ前処理'\n",
    "except FileNotFoundError:\n",
    "    os.chdir('G:/マイドライブ/03_code_test/clustering-house_trial')\n",
    "    data_path_header = 'H:/マイドライブ/01_研究/02_円山町/1_データ前処理'\n",
    "print(\"Current Working Directory: \", os.getcwd())\n",
    "\n",
    "\n",
    "# カスタムライブラリのパスを追加\n",
    "sys.path.append(data_path_header)\n",
    "from column_translation import column_translation_dict"
   ]
  },
  {
   "cell_type": "code",
   "execution_count": null,
   "id": "86730335",
   "metadata": {},
   "outputs": [],
   "source": []
  }
 ],
 "metadata": {
  "language_info": {
   "name": "python"
  }
 },
 "nbformat": 4,
 "nbformat_minor": 5
}
